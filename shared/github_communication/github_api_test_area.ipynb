{
 "cells": [
  {
   "cell_type": "code",
   "execution_count": 1,
   "metadata": {},
   "outputs": [],
   "source": [
    "import os\n",
    "from github_api_wrapper import GithubAPIWrapper"
   ]
  },
  {
   "cell_type": "code",
   "execution_count": 2,
   "metadata": {},
   "outputs": [],
   "source": [
    "GITHUB_TOKEN = os.getenv(\"GITHUB_TOKEN\") # or just paste your token here\n",
    "USER_NAME = None# your github user name\n",
    "REPOSITORY_NAME = None # your repository name\n",
    "g = GithubAPIWrapper(GITHUB_TOKEN, f\"{USER_NAME}/{REPOSITORY_NAME}\")"
   ]
  },
  {
   "cell_type": "code",
   "execution_count": 3,
   "metadata": {},
   "outputs": [
    {
     "name": "stdout",
     "output_type": "stream",
     "text": [
      "['README.md', 'create_file.txt', 'folder/test.py', 'folder/test.txt', 'test_branch/test.py']\n"
     ]
    }
   ],
   "source": [
    "print(g.get_file_paths(\"main\"))"
   ]
  },
  {
   "cell_type": "code",
   "execution_count": 4,
   "metadata": {},
   "outputs": [
    {
     "name": "stdout",
     "output_type": "stream",
     "text": [
      "# api_controlled_github\n"
     ]
    }
   ],
   "source": [
    "print(g.get_file_content(\"README.md\", \"main\"))"
   ]
  },
  {
   "cell_type": "code",
   "execution_count": 5,
   "metadata": {},
   "outputs": [
    {
     "name": "stdout",
     "output_type": "stream",
     "text": [
      "<github.PaginatedList.PaginatedList object at 0x000001B5FBD1E840>\n"
     ]
    }
   ],
   "source": [
    "\n",
    "print(g.get_branches())"
   ]
  },
  {
   "cell_type": "code",
   "execution_count": 6,
   "metadata": {},
   "outputs": [
    {
     "name": "stdout",
     "output_type": "stream",
     "text": [
      "GitRef(ref=\"refs/heads/test\")\n"
     ]
    }
   ],
   "source": [
    "print(g.create_branch(\"test\"))"
   ]
  },
  {
   "cell_type": "code",
   "execution_count": 10,
   "metadata": {},
   "outputs": [
    {
     "name": "stdout",
     "output_type": "stream",
     "text": [
      "{'content': ContentFile(path=\"test.txt\"), 'commit': Commit(sha=\"a20a7102161ef99c0138148150366a404d0b6594\")}\n"
     ]
    }
   ],
   "source": [
    "print(g.create_file(\"test.txt\", \"test\", \"add test.txt\", \"test\"))"
   ]
  },
  {
   "cell_type": "code",
   "execution_count": 8,
   "metadata": {},
   "outputs": [
    {
     "name": "stdout",
     "output_type": "stream",
     "text": [
      "{'commit': Commit(sha=\"62ca8853747b224983f1ee7ccc110966c00de03f\"), 'content': ContentFile(path=\"test.txt\")}\n"
     ]
    }
   ],
   "source": [
    "print(g.update_file(\"test.txt\", \"test2\", \"update test.txt\", \"test\"))"
   ]
  },
  {
   "cell_type": "code",
   "execution_count": 9,
   "metadata": {},
   "outputs": [
    {
     "name": "stdout",
     "output_type": "stream",
     "text": [
      "{'commit': Commit(sha=\"199e933d7718f2bdbfcc61e53ec203f87a11f333\"), 'content': NotSet}\n"
     ]
    }
   ],
   "source": [
    "print(g.delete_file(\"test.txt\", \"delete test.txt\", \"test\"))"
   ]
  },
  {
   "cell_type": "code",
   "execution_count": 11,
   "metadata": {},
   "outputs": [
    {
     "name": "stdout",
     "output_type": "stream",
     "text": [
      "PullRequest(title=\"add test.txt\", number=4)\n"
     ]
    }
   ],
   "source": [
    "print(g.create_pull_request(\"add test.txt\", \"add test.txt\", \"test\", \"main\"))"
   ]
  },
  {
   "cell_type": "code",
   "execution_count": 3,
   "metadata": {},
   "outputs": [
    {
     "name": "stdout",
     "output_type": "stream",
     "text": [
      "<github.PaginatedList.PaginatedList object at 0x000001F02E16A3C0>\n"
     ]
    }
   ],
   "source": [
    "print(g.get_pull_requests())"
   ]
  },
  {
   "cell_type": "code",
   "execution_count": 4,
   "metadata": {},
   "outputs": [
    {
     "name": "stdout",
     "output_type": "stream",
     "text": [
      "IssueComment(user=NamedUser(login=\"RomanGoEmpire\"), id=1807230315)\n"
     ]
    }
   ],
   "source": [
    "print(g.comment_on_pull_request(4, \"text comment\"))"
   ]
  },
  {
   "cell_type": "code",
   "execution_count": 15,
   "metadata": {},
   "outputs": [
    {
     "name": "stdout",
     "output_type": "stream",
     "text": [
      "PullRequestMergeStatus(sha=\"19234f6f6e66578a729ccfcff2f496b1788e414b\", merged=True)\n"
     ]
    }
   ],
   "source": [
    "\n",
    "print(g.merge_pull_request(4))"
   ]
  },
  {
   "cell_type": "code",
   "execution_count": 16,
   "metadata": {},
   "outputs": [
    {
     "name": "stdout",
     "output_type": "stream",
     "text": [
      "<github.PaginatedList.PaginatedList object at 0x000001B5FBC34A10>\n"
     ]
    }
   ],
   "source": [
    "print(g.get_issues())"
   ]
  },
  {
   "cell_type": "code",
   "execution_count": 5,
   "metadata": {},
   "outputs": [
    {
     "name": "stdout",
     "output_type": "stream",
     "text": [
      "Issue(title=\"Added by API\", number=7)\n"
     ]
    }
   ],
   "source": [
    "print(g.create_issue(\"Added by API\", \"Added by API\"))"
   ]
  },
  {
   "cell_type": "code",
   "execution_count": 18,
   "metadata": {},
   "outputs": [
    {
     "name": "stdout",
     "output_type": "stream",
     "text": [
      "IssueComment(user=NamedUser(login=\"RomanGoEmpire\"), id=1807223791)\n"
     ]
    }
   ],
   "source": [
    "print(g.comment_on_issue(2, \"Commented by API\"))"
   ]
  },
  {
   "cell_type": "code",
   "execution_count": 19,
   "metadata": {},
   "outputs": [
    {
     "name": "stdout",
     "output_type": "stream",
     "text": [
      "None\n"
     ]
    }
   ],
   "source": [
    "print(g.update_issue(2, \"Updated by API\", \"Updated by API\"))"
   ]
  },
  {
   "cell_type": "code",
   "execution_count": 20,
   "metadata": {},
   "outputs": [
    {
     "name": "stdout",
     "output_type": "stream",
     "text": [
      "None\n"
     ]
    }
   ],
   "source": [
    "print(g.close_issue(2))"
   ]
  }
 ],
 "metadata": {
  "kernelspec": {
   "display_name": "Python 3",
   "language": "python",
   "name": "python3"
  },
  "language_info": {
   "codemirror_mode": {
    "name": "ipython",
    "version": 3
   },
   "file_extension": ".py",
   "mimetype": "text/x-python",
   "name": "python",
   "nbconvert_exporter": "python",
   "pygments_lexer": "ipython3",
   "version": "3.12.0"
  }
 },
 "nbformat": 4,
 "nbformat_minor": 2
}
